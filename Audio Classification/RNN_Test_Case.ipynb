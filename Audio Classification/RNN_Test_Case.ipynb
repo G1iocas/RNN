{
 "cells": [
  {
   "cell_type": "code",
   "execution_count": 1,
   "metadata": {},
   "outputs": [],
   "source": [
    "import librosa\n",
    "import numpy as np\n",
    "import os\n",
    "from keras.models import load_model\n",
    "from sklearn.metrics import classification_report\n",
    "from sklearn.preprocessing import LabelEncoder\n",
    "\n",
    "label_encoder = LabelEncoder()\n",
    "\n",
    "# Load the saved model\n",
    "model = load_model('music_genre_classifier_rnn.h5')\n"
   ]
  },
  {
   "cell_type": "code",
   "execution_count": 2,
   "metadata": {},
   "outputs": [],
   "source": [
    "# Function to extract features from audio\n",
    "def extract_features(file_path):\n",
    "    try:\n",
    "        audio, _ = librosa.load(file_path, res_type='kaiser_fast') \n",
    "        mfccs = librosa.feature.mfcc(y=audio, sr=22050, n_mfcc=13, duration=30)\n",
    "        mfccs_processed = np.mean(mfccs.T,axis=0)\n",
    "        \n",
    "    except Exception as e:\n",
    "        print(\"Error encountered while parsing file: \", file_path)\n",
    "        return None \n",
    "     \n",
    "    return mfccs_processed\n",
    "\n",
    "# Function to load data and extract features\n",
    "def load_data(data_path):\n",
    "    labels = []\n",
    "    features = []\n",
    "    \n",
    "    for folder in os.listdir(data_path):\n",
    "        genre_folder = os.path.join(data_path, folder)\n",
    "        for file in os.listdir(genre_folder):\n",
    "            file_path = os.path.join(genre_folder, file)\n",
    "            feature = extract_features(file_path)\n",
    "            if feature is not None:\n",
    "                features.append(feature)\n",
    "                labels.append(folder)\n",
    "                \n",
    "    return np.array(features), np.array(labels)"
   ]
  },
  {
   "cell_type": "code",
   "execution_count": 3,
   "metadata": {},
   "outputs": [
    {
     "name": "stderr",
     "output_type": "stream",
     "text": [
      "C:\\Users\\JLCarunungan\\AppData\\Local\\Temp\\ipykernel_17084\\2025970606.py:4: UserWarning: PySoundFile failed. Trying audioread instead.\n",
      "  audio, _ = librosa.load(file_path, res_type='kaiser_fast')\n",
      "c:\\Users\\JLCarunungan\\AppData\\Local\\Programs\\Python\\Python310\\lib\\site-packages\\librosa\\core\\audio.py:183: FutureWarning: librosa.core.audio.__audioread_load\n",
      "\tDeprecated as of librosa version 0.10.0.\n",
      "\tIt will be removed in librosa version 1.0.\n",
      "  y, sr_native = __audioread_load(path, offset, duration, dtype)\n"
     ]
    },
    {
     "name": "stdout",
     "output_type": "stream",
     "text": [
      "Error encountered while parsing file:  Data\\genres_original\\jazz\\jazz.00054.wav\n"
     ]
    }
   ],
   "source": [
    "# Load the test data\n",
    "data_path = 'Data\\genres_original'  # Update with your test dataset path\n",
    "X_test, y_test = load_data(data_path)"
   ]
  },
  {
   "cell_type": "code",
   "execution_count": 4,
   "metadata": {},
   "outputs": [
    {
     "name": "stdout",
     "output_type": "stream",
     "text": [
      "32/32 [==============================] - 0s 3ms/step\n"
     ]
    }
   ],
   "source": [
    "# Perform predictions\n",
    "predictions = model.predict(X_test)\n",
    "\n",
    "\n",
    "# Convert predictions from one-hot encoded to labels\n",
    "predicted_labels = np.argmax(predictions, axis=1)\n",
    "true_labels = np.argmax(y_test, axis=0)"
   ]
  },
  {
   "cell_type": "code",
   "execution_count": 5,
   "metadata": {},
   "outputs": [
    {
     "ename": "AttributeError",
     "evalue": "'LabelEncoder' object has no attribute 'classes_'",
     "output_type": "error",
     "traceback": [
      "\u001b[1;31m---------------------------------------------------------------------------\u001b[0m",
      "\u001b[1;31mAttributeError\u001b[0m                            Traceback (most recent call last)",
      "Cell \u001b[1;32mIn [5], line 2\u001b[0m\n\u001b[0;32m      1\u001b[0m \u001b[38;5;66;03m# Decode labels\u001b[39;00m\n\u001b[1;32m----> 2\u001b[0m predicted_genre \u001b[38;5;241m=\u001b[39m [label_encoder\u001b[38;5;241m.\u001b[39mclasses_[label] \u001b[38;5;28;01mfor\u001b[39;00m label \u001b[38;5;129;01min\u001b[39;00m predicted_labels]\n\u001b[0;32m      3\u001b[0m true_genre \u001b[38;5;241m=\u001b[39m [label_encoder\u001b[38;5;241m.\u001b[39mclasses_[label] \u001b[38;5;28;01mfor\u001b[39;00m label \u001b[38;5;129;01min\u001b[39;00m true_labels]\n\u001b[0;32m      5\u001b[0m \u001b[38;5;66;03m# Print classification report\u001b[39;00m\n",
      "Cell \u001b[1;32mIn [5], line 2\u001b[0m, in \u001b[0;36m<listcomp>\u001b[1;34m(.0)\u001b[0m\n\u001b[0;32m      1\u001b[0m \u001b[38;5;66;03m# Decode labels\u001b[39;00m\n\u001b[1;32m----> 2\u001b[0m predicted_genre \u001b[38;5;241m=\u001b[39m [\u001b[43mlabel_encoder\u001b[49m\u001b[38;5;241;43m.\u001b[39;49m\u001b[43mclasses_\u001b[49m[label] \u001b[38;5;28;01mfor\u001b[39;00m label \u001b[38;5;129;01min\u001b[39;00m predicted_labels]\n\u001b[0;32m      3\u001b[0m true_genre \u001b[38;5;241m=\u001b[39m [label_encoder\u001b[38;5;241m.\u001b[39mclasses_[label] \u001b[38;5;28;01mfor\u001b[39;00m label \u001b[38;5;129;01min\u001b[39;00m true_labels]\n\u001b[0;32m      5\u001b[0m \u001b[38;5;66;03m# Print classification report\u001b[39;00m\n",
      "\u001b[1;31mAttributeError\u001b[0m: 'LabelEncoder' object has no attribute 'classes_'"
     ]
    }
   ],
   "source": [
    "# Decode labels\n",
    "predicted_genre = [label_encoder.classes_[label] for label in predicted_labels]\n",
    "true_genre = [label_encoder.classes_[label] for label in true_labels]\n",
    "\n",
    "# Print classification report\n",
    "print(classification_report(true_genre, predicted_genre))"
   ]
  }
 ],
 "metadata": {
  "kernelspec": {
   "display_name": "Python 3",
   "language": "python",
   "name": "python3"
  },
  "language_info": {
   "codemirror_mode": {
    "name": "ipython",
    "version": 3
   },
   "file_extension": ".py",
   "mimetype": "text/x-python",
   "name": "python",
   "nbconvert_exporter": "python",
   "pygments_lexer": "ipython3",
   "version": "3.10.7"
  }
 },
 "nbformat": 4,
 "nbformat_minor": 2
}
