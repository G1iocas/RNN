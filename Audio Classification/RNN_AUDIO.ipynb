{
 "cells": [
  {
   "cell_type": "code",
   "execution_count": 1,
   "metadata": {},
   "outputs": [],
   "source": [
    "# Importing necessary libraries\n",
    "import numpy as np\n",
    "import librosa\n",
    "import os\n",
    "\n",
    "from sklearn.model_selection import train_test_split\n",
    "from sklearn.preprocessing import LabelEncoder\n",
    "from keras.utils import to_categorical\n",
    "from keras.models import Sequential\n",
    "from keras.layers import Dense, Dropout, SimpleRNN, BatchNormalization\n",
    "from keras.optimizers import Adam\n",
    "from keras.callbacks import ModelCheckpoint, EarlyStopping\n",
    "from scikeras.wrappers import KerasClassifier\n",
    "from sklearn.model_selection import GridSearchCV"
   ]
  },
  {
   "cell_type": "code",
   "execution_count": 2,
   "metadata": {},
   "outputs": [],
   "source": [
    "# Define function to extract features from audio\n",
    "def extract_features(file_path):\n",
    "    try:\n",
    "        audio, _ = librosa.load(file_path, res_type='kaiser_fast', duration=30) \n",
    "        mfccs = librosa.feature.mfcc(y=audio, sr=22050, n_mfcc=13)\n",
    "        mfccs_processed = np.mean(mfccs.T,axis=0)\n",
    "        \n",
    "    except Exception as e:\n",
    "        print(\"Error encountered while parsing file: \", file_path)\n",
    "        return None \n",
    "     \n",
    "    return mfccs_processed"
   ]
  },
  {
   "cell_type": "code",
   "execution_count": 3,
   "metadata": {},
   "outputs": [],
   "source": [
    "# Define function to load data and extract features\n",
    "def load_data(data_path):\n",
    "    labels = []\n",
    "    features = []\n",
    "    \n",
    "    for folder in os.listdir(data_path):\n",
    "        genre_folder = os.path.join(data_path, folder)\n",
    "        for file in os.listdir(genre_folder):\n",
    "            file_path = os.path.join(genre_folder, file)\n",
    "            feature = extract_features(file_path)\n",
    "            if feature is not None:\n",
    "                features.append(feature)\n",
    "                labels.append(folder)\n",
    "                \n",
    "    return np.array(features), np.array(labels)"
   ]
  },
  {
   "cell_type": "code",
   "execution_count": 4,
   "metadata": {},
   "outputs": [
    {
     "name": "stderr",
     "output_type": "stream",
     "text": [
      "C:\\Users\\JLCarunungan\\AppData\\Local\\Temp\\ipykernel_12780\\2273535198.py:4: UserWarning: PySoundFile failed. Trying audioread instead.\n",
      "  audio, _ = librosa.load(file_path, res_type='kaiser_fast', duration=30)\n",
      "c:\\Users\\JLCarunungan\\AppData\\Local\\Programs\\Python\\Python312\\Lib\\site-packages\\librosa\\core\\audio.py:184: FutureWarning: librosa.core.audio.__audioread_load\n",
      "\tDeprecated as of librosa version 0.10.0.\n",
      "\tIt will be removed in librosa version 1.0.\n",
      "  y, sr_native = __audioread_load(path, offset, duration, dtype)\n"
     ]
    },
    {
     "name": "stdout",
     "output_type": "stream",
     "text": [
      "Error encountered while parsing file:  Data/genres_original\\jazz\\jazz.00054.wav\n"
     ]
    }
   ],
   "source": [
    "# Load data\n",
    "data_path = 'Data/genres_original'  # Update with your dataset path\n",
    "features, labels = load_data(data_path)\n",
    "\n",
    "# Encode labels\n",
    "label_encoder = LabelEncoder()\n",
    "encoded_labels = label_encoder.fit_transform(labels)\n",
    "labels_categorical = to_categorical(encoded_labels)"
   ]
  },
  {
   "cell_type": "code",
   "execution_count": 5,
   "metadata": {},
   "outputs": [
    {
     "data": {
      "text/plain": [
       "(999, 13)"
      ]
     },
     "execution_count": 5,
     "metadata": {},
     "output_type": "execute_result"
    }
   ],
   "source": [
    "features.shape"
   ]
  },
  {
   "cell_type": "code",
   "execution_count": 6,
   "metadata": {},
   "outputs": [],
   "source": [
    "# Split data into train and test sets\n",
    "X_train, X_test, y_train, y_test = train_test_split(features, labels_categorical, test_size=0.2, random_state=42)"
   ]
  },
  {
   "cell_type": "code",
   "execution_count": 7,
   "metadata": {},
   "outputs": [
    {
     "data": {
      "text/plain": [
       "799"
      ]
     },
     "execution_count": 7,
     "metadata": {},
     "output_type": "execute_result"
    }
   ],
   "source": [
    "X_train.shape[0]"
   ]
  },
  {
   "cell_type": "code",
   "execution_count": 8,
   "metadata": {},
   "outputs": [],
   "source": [
    "# Reshape input data to have the appropriate shape for RNN\n",
    "X_train_reshaped = X_train.reshape(X_train.shape[0], X_train.shape[1], 1)"
   ]
  },
  {
   "cell_type": "code",
   "execution_count": null,
   "metadata": {},
   "outputs": [],
   "source": [
    "#V_1\n",
    "# Define the model \n",
    "model = Sequential()\n",
    "model.add(SimpleRNN(units=128, input_shape=(X_train_reshaped.shape[1], X_train_reshaped.shape[2])))\n",
    "model.add(Dropout(0.2))  # Adjust dropout rate\n",
    "model.add(BatchNormalization())  # Add BatchNormalization layer\n",
    "model.add(Dense(units=len(label_encoder.classes_), activation='softmax'))"
   ]
  },
  {
   "cell_type": "code",
   "execution_count": null,
   "metadata": {},
   "outputs": [],
   "source": [
    "#V_2\n",
    "# Define the model\n",
    "model = Sequential()\n",
    "model.add(SimpleRNN(units=128, input_shape=(X_train_reshaped.shape[1], X_train_reshaped.shape[2]), return_sequences=True))\n",
    "model.add(Dropout(0.2))  # Adjust dropout rate\n",
    "model.add(BatchNormalization())  # Add BatchNormalization layer\n",
    "model.add(SimpleRNN(units=64, return_sequences=True))\n",
    "model.add(Dropout(0.2))\n",
    "model.add(BatchNormalization())\n",
    "model.add(SimpleRNN(units=32))\n",
    "model.add(Dropout(0.2))\n",
    "model.add(BatchNormalization())\n",
    "model.add(Dense(units=len(label_encoder.classes_), activation='softmax'))"
   ]
  },
  {
   "cell_type": "code",
   "execution_count": 9,
   "metadata": {},
   "outputs": [
    {
     "name": "stderr",
     "output_type": "stream",
     "text": [
      "c:\\Users\\JLCarunungan\\AppData\\Local\\Programs\\Python\\Python312\\Lib\\site-packages\\keras\\src\\layers\\rnn\\rnn.py:204: UserWarning: Do not pass an `input_shape`/`input_dim` argument to a layer. When using Sequential models, prefer using an `Input(shape)` object as the first layer in the model instead.\n",
      "  super().__init__(**kwargs)\n"
     ]
    },
    {
     "name": "stdout",
     "output_type": "stream",
     "text": [
      "Accuracy: 0.4350000023841858 Params: {'learning_rate': 0.001, 'dropout_rate': 0.1, 'batch_size': 16, 'epochs': 30}\n",
      "Accuracy: 0.375 Params: {'learning_rate': 0.001, 'dropout_rate': 0.1, 'batch_size': 16, 'epochs': 40}\n",
      "Accuracy: 0.38499999046325684 Params: {'learning_rate': 0.001, 'dropout_rate': 0.1, 'batch_size': 16, 'epochs': 50}\n",
      "Accuracy: 0.4749999940395355 Params: {'learning_rate': 0.001, 'dropout_rate': 0.1, 'batch_size': 16, 'epochs': 60}\n",
      "Accuracy: 0.38499999046325684 Params: {'learning_rate': 0.001, 'dropout_rate': 0.1, 'batch_size': 32, 'epochs': 30}\n",
      "Accuracy: 0.4050000011920929 Params: {'learning_rate': 0.001, 'dropout_rate': 0.1, 'batch_size': 32, 'epochs': 40}\n",
      "Accuracy: 0.41999998688697815 Params: {'learning_rate': 0.001, 'dropout_rate': 0.1, 'batch_size': 32, 'epochs': 50}\n",
      "Accuracy: 0.42500001192092896 Params: {'learning_rate': 0.001, 'dropout_rate': 0.1, 'batch_size': 32, 'epochs': 60}\n",
      "Accuracy: 0.36500000953674316 Params: {'learning_rate': 0.001, 'dropout_rate': 0.1, 'batch_size': 64, 'epochs': 30}\n",
      "Accuracy: 0.38999998569488525 Params: {'learning_rate': 0.001, 'dropout_rate': 0.1, 'batch_size': 64, 'epochs': 40}\n",
      "Accuracy: 0.4000000059604645 Params: {'learning_rate': 0.001, 'dropout_rate': 0.1, 'batch_size': 64, 'epochs': 50}\n",
      "Accuracy: 0.4000000059604645 Params: {'learning_rate': 0.001, 'dropout_rate': 0.1, 'batch_size': 64, 'epochs': 60}\n",
      "Accuracy: 0.3799999952316284 Params: {'learning_rate': 0.001, 'dropout_rate': 0.1, 'batch_size': 128, 'epochs': 30}\n",
      "Accuracy: 0.36500000953674316 Params: {'learning_rate': 0.001, 'dropout_rate': 0.1, 'batch_size': 128, 'epochs': 40}\n",
      "Accuracy: 0.4000000059604645 Params: {'learning_rate': 0.001, 'dropout_rate': 0.1, 'batch_size': 128, 'epochs': 50}\n",
      "Accuracy: 0.3799999952316284 Params: {'learning_rate': 0.001, 'dropout_rate': 0.1, 'batch_size': 128, 'epochs': 60}\n",
      "Accuracy: 0.36500000953674316 Params: {'learning_rate': 0.001, 'dropout_rate': 0.2, 'batch_size': 16, 'epochs': 30}\n",
      "Accuracy: 0.38999998569488525 Params: {'learning_rate': 0.001, 'dropout_rate': 0.2, 'batch_size': 16, 'epochs': 40}\n",
      "Accuracy: 0.45500001311302185 Params: {'learning_rate': 0.001, 'dropout_rate': 0.2, 'batch_size': 16, 'epochs': 50}\n",
      "Accuracy: 0.4350000023841858 Params: {'learning_rate': 0.001, 'dropout_rate': 0.2, 'batch_size': 16, 'epochs': 60}\n",
      "Accuracy: 0.36500000953674316 Params: {'learning_rate': 0.001, 'dropout_rate': 0.2, 'batch_size': 32, 'epochs': 30}\n",
      "Accuracy: 0.41499999165534973 Params: {'learning_rate': 0.001, 'dropout_rate': 0.2, 'batch_size': 32, 'epochs': 40}\n",
      "Accuracy: 0.41999998688697815 Params: {'learning_rate': 0.001, 'dropout_rate': 0.2, 'batch_size': 32, 'epochs': 50}\n",
      "Accuracy: 0.42500001192092896 Params: {'learning_rate': 0.001, 'dropout_rate': 0.2, 'batch_size': 32, 'epochs': 60}\n",
      "Accuracy: 0.39500001072883606 Params: {'learning_rate': 0.001, 'dropout_rate': 0.2, 'batch_size': 64, 'epochs': 30}\n",
      "Accuracy: 0.38499999046325684 Params: {'learning_rate': 0.001, 'dropout_rate': 0.2, 'batch_size': 64, 'epochs': 40}\n",
      "Accuracy: 0.4000000059604645 Params: {'learning_rate': 0.001, 'dropout_rate': 0.2, 'batch_size': 64, 'epochs': 50}\n",
      "Accuracy: 0.42500001192092896 Params: {'learning_rate': 0.001, 'dropout_rate': 0.2, 'batch_size': 64, 'epochs': 60}\n",
      "Accuracy: 0.33000001311302185 Params: {'learning_rate': 0.001, 'dropout_rate': 0.2, 'batch_size': 128, 'epochs': 30}\n",
      "Accuracy: 0.33500000834465027 Params: {'learning_rate': 0.001, 'dropout_rate': 0.2, 'batch_size': 128, 'epochs': 40}\n",
      "Accuracy: 0.4000000059604645 Params: {'learning_rate': 0.001, 'dropout_rate': 0.2, 'batch_size': 128, 'epochs': 50}\n",
      "Accuracy: 0.4099999964237213 Params: {'learning_rate': 0.001, 'dropout_rate': 0.2, 'batch_size': 128, 'epochs': 60}\n",
      "Accuracy: 0.3799999952316284 Params: {'learning_rate': 0.0015, 'dropout_rate': 0.1, 'batch_size': 16, 'epochs': 30}\n",
      "Accuracy: 0.41999998688697815 Params: {'learning_rate': 0.0015, 'dropout_rate': 0.1, 'batch_size': 16, 'epochs': 40}\n",
      "Accuracy: 0.4099999964237213 Params: {'learning_rate': 0.0015, 'dropout_rate': 0.1, 'batch_size': 16, 'epochs': 50}\n",
      "Accuracy: 0.38999998569488525 Params: {'learning_rate': 0.0015, 'dropout_rate': 0.1, 'batch_size': 16, 'epochs': 60}\n",
      "Accuracy: 0.41499999165534973 Params: {'learning_rate': 0.0015, 'dropout_rate': 0.1, 'batch_size': 32, 'epochs': 30}\n",
      "Accuracy: 0.36500000953674316 Params: {'learning_rate': 0.0015, 'dropout_rate': 0.1, 'batch_size': 32, 'epochs': 40}\n",
      "Accuracy: 0.41499999165534973 Params: {'learning_rate': 0.0015, 'dropout_rate': 0.1, 'batch_size': 32, 'epochs': 50}\n",
      "Accuracy: 0.41999998688697815 Params: {'learning_rate': 0.0015, 'dropout_rate': 0.1, 'batch_size': 32, 'epochs': 60}\n",
      "Accuracy: 0.4000000059604645 Params: {'learning_rate': 0.0015, 'dropout_rate': 0.1, 'batch_size': 64, 'epochs': 30}\n",
      "Accuracy: 0.4050000011920929 Params: {'learning_rate': 0.0015, 'dropout_rate': 0.1, 'batch_size': 64, 'epochs': 40}\n",
      "Accuracy: 0.375 Params: {'learning_rate': 0.0015, 'dropout_rate': 0.1, 'batch_size': 64, 'epochs': 50}\n",
      "Accuracy: 0.44999998807907104 Params: {'learning_rate': 0.0015, 'dropout_rate': 0.1, 'batch_size': 64, 'epochs': 60}\n",
      "Accuracy: 0.375 Params: {'learning_rate': 0.0015, 'dropout_rate': 0.1, 'batch_size': 128, 'epochs': 30}\n",
      "Accuracy: 0.39500001072883606 Params: {'learning_rate': 0.0015, 'dropout_rate': 0.1, 'batch_size': 128, 'epochs': 40}\n",
      "Accuracy: 0.3799999952316284 Params: {'learning_rate': 0.0015, 'dropout_rate': 0.1, 'batch_size': 128, 'epochs': 50}\n",
      "Accuracy: 0.3700000047683716 Params: {'learning_rate': 0.0015, 'dropout_rate': 0.1, 'batch_size': 128, 'epochs': 60}\n",
      "Accuracy: 0.38499999046325684 Params: {'learning_rate': 0.0015, 'dropout_rate': 0.2, 'batch_size': 16, 'epochs': 30}\n",
      "Accuracy: 0.4050000011920929 Params: {'learning_rate': 0.0015, 'dropout_rate': 0.2, 'batch_size': 16, 'epochs': 40}\n",
      "Accuracy: 0.4350000023841858 Params: {'learning_rate': 0.0015, 'dropout_rate': 0.2, 'batch_size': 16, 'epochs': 50}\n",
      "Accuracy: 0.39500001072883606 Params: {'learning_rate': 0.0015, 'dropout_rate': 0.2, 'batch_size': 16, 'epochs': 60}\n",
      "Accuracy: 0.38999998569488525 Params: {'learning_rate': 0.0015, 'dropout_rate': 0.2, 'batch_size': 32, 'epochs': 30}\n",
      "Accuracy: 0.4050000011920929 Params: {'learning_rate': 0.0015, 'dropout_rate': 0.2, 'batch_size': 32, 'epochs': 40}\n",
      "Accuracy: 0.4000000059604645 Params: {'learning_rate': 0.0015, 'dropout_rate': 0.2, 'batch_size': 32, 'epochs': 50}\n",
      "Accuracy: 0.4399999976158142 Params: {'learning_rate': 0.0015, 'dropout_rate': 0.2, 'batch_size': 32, 'epochs': 60}\n",
      "Accuracy: 0.3799999952316284 Params: {'learning_rate': 0.0015, 'dropout_rate': 0.2, 'batch_size': 64, 'epochs': 30}\n",
      "Accuracy: 0.3799999952316284 Params: {'learning_rate': 0.0015, 'dropout_rate': 0.2, 'batch_size': 64, 'epochs': 40}\n",
      "Accuracy: 0.44999998807907104 Params: {'learning_rate': 0.0015, 'dropout_rate': 0.2, 'batch_size': 64, 'epochs': 50}\n",
      "Accuracy: 0.4000000059604645 Params: {'learning_rate': 0.0015, 'dropout_rate': 0.2, 'batch_size': 64, 'epochs': 60}\n",
      "Accuracy: 0.38999998569488525 Params: {'learning_rate': 0.0015, 'dropout_rate': 0.2, 'batch_size': 128, 'epochs': 30}\n",
      "Accuracy: 0.36500000953674316 Params: {'learning_rate': 0.0015, 'dropout_rate': 0.2, 'batch_size': 128, 'epochs': 40}\n",
      "Accuracy: 0.3400000035762787 Params: {'learning_rate': 0.0015, 'dropout_rate': 0.2, 'batch_size': 128, 'epochs': 50}\n",
      "Accuracy: 0.4050000011920929 Params: {'learning_rate': 0.0015, 'dropout_rate': 0.2, 'batch_size': 128, 'epochs': 60}\n",
      "Accuracy: 0.3499999940395355 Params: {'learning_rate': 0.002, 'dropout_rate': 0.1, 'batch_size': 16, 'epochs': 30}\n",
      "Accuracy: 0.3799999952316284 Params: {'learning_rate': 0.002, 'dropout_rate': 0.1, 'batch_size': 16, 'epochs': 40}\n",
      "Accuracy: 0.38499999046325684 Params: {'learning_rate': 0.002, 'dropout_rate': 0.1, 'batch_size': 16, 'epochs': 50}\n",
      "Accuracy: 0.4399999976158142 Params: {'learning_rate': 0.002, 'dropout_rate': 0.1, 'batch_size': 16, 'epochs': 60}\n",
      "Accuracy: 0.4000000059604645 Params: {'learning_rate': 0.002, 'dropout_rate': 0.1, 'batch_size': 32, 'epochs': 30}\n",
      "Accuracy: 0.4000000059604645 Params: {'learning_rate': 0.002, 'dropout_rate': 0.1, 'batch_size': 32, 'epochs': 40}\n",
      "Accuracy: 0.41999998688697815 Params: {'learning_rate': 0.002, 'dropout_rate': 0.1, 'batch_size': 32, 'epochs': 50}\n",
      "Accuracy: 0.44999998807907104 Params: {'learning_rate': 0.002, 'dropout_rate': 0.1, 'batch_size': 32, 'epochs': 60}\n",
      "Accuracy: 0.375 Params: {'learning_rate': 0.002, 'dropout_rate': 0.1, 'batch_size': 64, 'epochs': 30}\n",
      "Accuracy: 0.4099999964237213 Params: {'learning_rate': 0.002, 'dropout_rate': 0.1, 'batch_size': 64, 'epochs': 40}\n",
      "Accuracy: 0.3700000047683716 Params: {'learning_rate': 0.002, 'dropout_rate': 0.1, 'batch_size': 64, 'epochs': 50}\n",
      "Accuracy: 0.44999998807907104 Params: {'learning_rate': 0.002, 'dropout_rate': 0.1, 'batch_size': 64, 'epochs': 60}\n",
      "Accuracy: 0.4099999964237213 Params: {'learning_rate': 0.002, 'dropout_rate': 0.1, 'batch_size': 128, 'epochs': 30}\n",
      "Accuracy: 0.36500000953674316 Params: {'learning_rate': 0.002, 'dropout_rate': 0.1, 'batch_size': 128, 'epochs': 40}\n",
      "Accuracy: 0.44999998807907104 Params: {'learning_rate': 0.002, 'dropout_rate': 0.1, 'batch_size': 128, 'epochs': 50}\n",
      "Accuracy: 0.4300000071525574 Params: {'learning_rate': 0.002, 'dropout_rate': 0.1, 'batch_size': 128, 'epochs': 60}\n",
      "Accuracy: 0.4000000059604645 Params: {'learning_rate': 0.002, 'dropout_rate': 0.2, 'batch_size': 16, 'epochs': 30}\n",
      "Accuracy: 0.4050000011920929 Params: {'learning_rate': 0.002, 'dropout_rate': 0.2, 'batch_size': 16, 'epochs': 40}\n",
      "Accuracy: 0.47999998927116394 Params: {'learning_rate': 0.002, 'dropout_rate': 0.2, 'batch_size': 16, 'epochs': 50}\n",
      "Accuracy: 0.41499999165534973 Params: {'learning_rate': 0.002, 'dropout_rate': 0.2, 'batch_size': 16, 'epochs': 60}\n",
      "Accuracy: 0.4050000011920929 Params: {'learning_rate': 0.002, 'dropout_rate': 0.2, 'batch_size': 32, 'epochs': 30}\n",
      "Accuracy: 0.38499999046325684 Params: {'learning_rate': 0.002, 'dropout_rate': 0.2, 'batch_size': 32, 'epochs': 40}\n",
      "Accuracy: 0.41499999165534973 Params: {'learning_rate': 0.002, 'dropout_rate': 0.2, 'batch_size': 32, 'epochs': 50}\n",
      "Accuracy: 0.41499999165534973 Params: {'learning_rate': 0.002, 'dropout_rate': 0.2, 'batch_size': 32, 'epochs': 60}\n",
      "Accuracy: 0.4099999964237213 Params: {'learning_rate': 0.002, 'dropout_rate': 0.2, 'batch_size': 64, 'epochs': 30}\n",
      "Accuracy: 0.4449999928474426 Params: {'learning_rate': 0.002, 'dropout_rate': 0.2, 'batch_size': 64, 'epochs': 40}\n",
      "Accuracy: 0.42500001192092896 Params: {'learning_rate': 0.002, 'dropout_rate': 0.2, 'batch_size': 64, 'epochs': 50}\n",
      "Accuracy: 0.45500001311302185 Params: {'learning_rate': 0.002, 'dropout_rate': 0.2, 'batch_size': 64, 'epochs': 60}\n",
      "Accuracy: 0.4050000011920929 Params: {'learning_rate': 0.002, 'dropout_rate': 0.2, 'batch_size': 128, 'epochs': 30}\n",
      "Accuracy: 0.3799999952316284 Params: {'learning_rate': 0.002, 'dropout_rate': 0.2, 'batch_size': 128, 'epochs': 40}\n",
      "Accuracy: 0.4000000059604645 Params: {'learning_rate': 0.002, 'dropout_rate': 0.2, 'batch_size': 128, 'epochs': 50}\n",
      "Accuracy: 0.44999998807907104 Params: {'learning_rate': 0.002, 'dropout_rate': 0.2, 'batch_size': 128, 'epochs': 60}\n",
      "Best Mean Test Accuracy: 0.47999998927116394\n",
      "Best Parameters: {'learning_rate': 0.002, 'dropout_rate': 0.2, 'batch_size': 16, 'epochs': 50}\n"
     ]
    }
   ],
   "source": [
    "#v_3 HyperTesting\n",
    "\n",
    "# Define a function to create the model\n",
    "def create_model(learning_rate=0.001, dropout_rate=0.2):\n",
    "    model = Sequential()\n",
    "    model.add(SimpleRNN(units=128, input_shape=(X_train_reshaped.shape[1], X_train_reshaped.shape[2]), return_sequences=True))\n",
    "    model.add(Dropout(dropout_rate))  # Add dropout layer\n",
    "    model.add(BatchNormalization())\n",
    "    model.add(SimpleRNN(units=64, return_sequences=True))\n",
    "    model.add(Dropout(dropout_rate))  # Add dropout layer\n",
    "    model.add(BatchNormalization())\n",
    "    model.add(SimpleRNN(units=32))\n",
    "    model.add(Dropout(dropout_rate))  # Add dropout layer\n",
    "    model.add(BatchNormalization())\n",
    "    model.add(Dense(units=len(label_encoder.classes_), activation='softmax'))\n",
    "    \n",
    "    model.compile(optimizer=Adam(learning_rate=learning_rate), loss='categorical_crossentropy', metrics=['accuracy'])\n",
    "    return model\n",
    "\n",
    "# Initialize variables to store best score and parameters\n",
    "best_score = 0\n",
    "best_params = {}\n",
    "\n",
    "# Define lists of hyperparameters to search over\n",
    "learning_rates = [0.001, 0.01, 0.1, 0.2, 0.25, 0.3]\n",
    "dropout_rates = [0.1, 0.2, 0.3]\n",
    "batch_sizes = [16, 32, 64, 128, 256]\n",
    "epochs_list = [10, 20, 30, 40, 50]\n",
    "\n",
    "# Iterate over all combinations of hyperparameters\n",
    "for lr in learning_rates:\n",
    "    for dropout_rate in dropout_rates:\n",
    "        for batch_size in batch_sizes:\n",
    "            for epochs in epochs_list:\n",
    "                # Create model with current hyperparameters\n",
    "                model = create_model(learning_rate=lr, dropout_rate=dropout_rate)\n",
    "                \n",
    "                # Train the model\n",
    "                history = model.fit(X_train, y_train, epochs=epochs, batch_size=batch_size, validation_split=0.2, verbose=0)\n",
    "                \n",
    "                # Evaluate the model on validation data\n",
    "                _, accuracy = model.evaluate(X_test, y_test, verbose=0)\n",
    "                \n",
    "                # Store the accuracy and parameters\n",
    "                params = {'learning_rate': lr, 'dropout_rate': dropout_rate, 'batch_size': batch_size, 'epochs': epochs}\n",
    "                print(\"Accuracy:\", accuracy, \"Params:\", params)\n",
    "                \n",
    "                # Check if current model has the best score\n",
    "                if accuracy > best_score:\n",
    "                    best_score = accuracy\n",
    "                    best_params = params\n",
    "\n",
    "# Print the best score and parameters\n",
    "print(\"Best Mean Test Accuracy:\", best_score)\n",
    "print(\"Best Parameters:\", best_params)"
   ]
  },
  {
   "cell_type": "code",
   "execution_count": null,
   "metadata": {},
   "outputs": [],
   "source": [
    "# Compile the model\n",
    "model.compile(optimizer='adam', loss='categorical_crossentropy', metrics=['accuracy'])\n",
    "\n",
    "# Define callbacks\n",
    "#checkpoint = ModelCheckpoint(\"best_model.keras\", monitor='val_loss', verbose=1, save_best_only=True, mode='min')\n",
    "early_stopping = EarlyStopping(monitor='val_loss', patience=5, restore_best_weights=True)\n",
    "\n",
    "# Train the model\n",
    "history = model.fit(X_train, y_train, epochs=10, batch_size=64, validation_data=(X_test, y_test))"
   ]
  },
  {
   "cell_type": "code",
   "execution_count": null,
   "metadata": {},
   "outputs": [],
   "source": [
    "# Evaluate model\n",
    "loss, accuracy = model.evaluate(X_test, y_test)\n",
    "print(\"Test Loss:\", loss)\n",
    "print(\"Test Accuracy:\", accuracy)\n",
    "\n",
    "# Save the model\n",
    "#model.save('music_genre_classifier_rnn.keras')\n",
    "#print(\"Model saved as 'music_genre_classifier_rnn.keras'\")"
   ]
  }
 ],
 "metadata": {
  "kernelspec": {
   "display_name": "Python 3",
   "language": "python",
   "name": "python3"
  },
  "language_info": {
   "codemirror_mode": {
    "name": "ipython",
    "version": 3
   },
   "file_extension": ".py",
   "mimetype": "text/x-python",
   "name": "python",
   "nbconvert_exporter": "python",
   "pygments_lexer": "ipython3",
   "version": "3.12.3"
  }
 },
 "nbformat": 4,
 "nbformat_minor": 2
}
